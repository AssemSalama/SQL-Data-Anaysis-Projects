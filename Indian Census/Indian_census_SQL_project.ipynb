{
 "cells": [
  {
   "cell_type": "code",
   "execution_count": 1,
   "metadata": {
    "colab": {
     "base_uri": "https://localhost:8080/"
    },
    "id": "2u1GjPrzaFWD",
    "outputId": "ac63abcb-c140-47d2-dfcf-e29ce28cc91f"
   },
   "outputs": [
    {
     "name": "stdout",
     "output_type": "stream",
     "text": [
      "Requirement already satisfied: ipython-sql in c:\\users\\assem salama\\appdata\\local\\programs\\python\\python310\\lib\\site-packages (0.4.1)\n",
      "Requirement already satisfied: ipython>=1.0 in c:\\users\\assem salama\\appdata\\local\\programs\\python\\python310\\lib\\site-packages (from ipython-sql) (8.8.0)\n",
      "Requirement already satisfied: ipython-genutils>=0.1.0 in c:\\users\\assem salama\\appdata\\local\\programs\\python\\python310\\lib\\site-packages (from ipython-sql) (0.2.0)\n",
      "Requirement already satisfied: sqlparse in c:\\users\\assem salama\\appdata\\local\\programs\\python\\python310\\lib\\site-packages (from ipython-sql) (0.4.3)\n",
      "Requirement already satisfied: prettytable<1 in c:\\users\\assem salama\\appdata\\local\\programs\\python\\python310\\lib\\site-packages (from ipython-sql) (0.7.2)\n",
      "Requirement already satisfied: six in c:\\users\\assem salama\\appdata\\local\\programs\\python\\python310\\lib\\site-packages (from ipython-sql) (1.16.0)\n",
      "Requirement already satisfied: sqlalchemy>=0.6.7 in c:\\users\\assem salama\\appdata\\local\\programs\\python\\python310\\lib\\site-packages (from ipython-sql) (1.4.46)\n",
      "Requirement already satisfied: colorama in c:\\users\\assem salama\\appdata\\local\\programs\\python\\python310\\lib\\site-packages (from ipython>=1.0->ipython-sql) (0.4.6)\n",
      "Requirement already satisfied: stack-data in c:\\users\\assem salama\\appdata\\local\\programs\\python\\python310\\lib\\site-packages (from ipython>=1.0->ipython-sql) (0.6.2)\n",
      "Requirement already satisfied: traitlets>=5 in c:\\users\\assem salama\\appdata\\local\\programs\\python\\python310\\lib\\site-packages (from ipython>=1.0->ipython-sql) (5.8.1)\n",
      "Requirement already satisfied: pickleshare in c:\\users\\assem salama\\appdata\\local\\programs\\python\\python310\\lib\\site-packages (from ipython>=1.0->ipython-sql) (0.7.5)\n",
      "Requirement already satisfied: jedi>=0.16 in c:\\users\\assem salama\\appdata\\local\\programs\\python\\python310\\lib\\site-packages (from ipython>=1.0->ipython-sql) (0.18.2)\n",
      "Requirement already satisfied: pygments>=2.4.0 in c:\\users\\assem salama\\appdata\\local\\programs\\python\\python310\\lib\\site-packages (from ipython>=1.0->ipython-sql) (2.14.0)\n",
      "Requirement already satisfied: backcall in c:\\users\\assem salama\\appdata\\local\\programs\\python\\python310\\lib\\site-packages (from ipython>=1.0->ipython-sql) (0.2.0)\n",
      "Requirement already satisfied: matplotlib-inline in c:\\users\\assem salama\\appdata\\local\\programs\\python\\python310\\lib\\site-packages (from ipython>=1.0->ipython-sql) (0.1.6)\n",
      "Requirement already satisfied: prompt-toolkit<3.1.0,>=3.0.11 in c:\\users\\assem salama\\appdata\\local\\programs\\python\\python310\\lib\\site-packages (from ipython>=1.0->ipython-sql) (3.0.36)\n",
      "Requirement already satisfied: decorator in c:\\users\\assem salama\\appdata\\local\\programs\\python\\python310\\lib\\site-packages (from ipython>=1.0->ipython-sql) (5.1.1)\n",
      "Requirement already satisfied: parso<0.9.0,>=0.8.0 in c:\\users\\assem salama\\appdata\\local\\programs\\python\\python310\\lib\\site-packages (from jedi>=0.16->ipython>=1.0->ipython-sql) (0.8.3)\n",
      "Requirement already satisfied: wcwidth in c:\\users\\assem salama\\appdata\\local\\programs\\python\\python310\\lib\\site-packages (from prompt-toolkit<3.1.0,>=3.0.11->ipython>=1.0->ipython-sql) (0.2.5)\n",
      "Requirement already satisfied: greenlet!=0.4.17 in c:\\users\\assem salama\\appdata\\local\\programs\\python\\python310\\lib\\site-packages (from sqlalchemy>=0.6.7->ipython-sql) (2.0.1)\n",
      "Requirement already satisfied: asttokens>=2.1.0 in c:\\users\\assem salama\\appdata\\local\\programs\\python\\python310\\lib\\site-packages (from stack-data->ipython>=1.0->ipython-sql) (2.2.1)\n",
      "Requirement already satisfied: pure-eval in c:\\users\\assem salama\\appdata\\local\\programs\\python\\python310\\lib\\site-packages (from stack-data->ipython>=1.0->ipython-sql) (0.2.2)\n",
      "Requirement already satisfied: executing>=1.2.0 in c:\\users\\assem salama\\appdata\\local\\programs\\python\\python310\\lib\\site-packages (from stack-data->ipython>=1.0->ipython-sql) (1.2.0)\n"
     ]
    },
    {
     "name": "stderr",
     "output_type": "stream",
     "text": [
      "WARNING: You are using pip version 21.2.4; however, version 22.3.1 is available.\n",
      "You should consider upgrading via the 'C:\\Users\\Assem Salama\\AppData\\Local\\Programs\\Python\\Python310\\python.exe -m pip install --upgrade pip' command.\n"
     ]
    },
    {
     "name": "stdout",
     "output_type": "stream",
     "text": [
      "current_SQLite_Version :  3.37.2\n"
     ]
    }
   ],
   "source": [
    "# import libraries\n",
    "!pip install ipython-sql\n",
    "import pandas as pd\n",
    "import sqlite3\n",
    "print('current_SQLite_Version : ',sqlite3.sqlite_version)"
   ]
  },
  {
   "cell_type": "code",
   "execution_count": 2,
   "metadata": {
    "colab": {
     "base_uri": "https://localhost:8080/"
    },
    "id": "5mMgDhqODgdo",
    "outputId": "504d2488-4cf0-441d-cd4a-228e14e5ddb3"
   },
   "outputs": [
    {
     "name": "stdout",
     "output_type": "stream",
     "text": [
      "Updated_SQLite Version :  3.37.2\n"
     ]
    }
   ],
   "source": [
    "# import libraries\n",
    "import pandas as pd\n",
    "import sqlite3\n",
    "print('Updated_SQLite Version : ',sqlite3.sqlite_version)"
   ]
  },
  {
   "cell_type": "code",
   "execution_count": 3,
   "metadata": {
    "colab": {
     "base_uri": "https://localhost:8080/",
     "height": 386
    },
    "id": "Mb6FSs7in04P",
    "outputId": "4f09d55b-4982-4c64-e218-299ec3ab308d"
   },
   "outputs": [
    {
     "name": "stdout",
     "output_type": "stream",
     "text": [
      "<class 'pandas.core.frame.DataFrame'>\n",
      "RangeIndex: 641 entries, 0 to 640\n",
      "Data columns (total 5 columns):\n",
      " #   Column     Non-Null Count  Dtype \n",
      "---  ------     --------------  ----- \n",
      " 0   District   641 non-null    object\n",
      " 1   State      641 non-null    object\n",
      " 2   Growth     641 non-null    object\n",
      " 3   Sex_Ratio  641 non-null    object\n",
      " 4   Literacy   641 non-null    object\n",
      "dtypes: object(5)\n",
      "memory usage: 25.2+ KB\n",
      "None\n",
      "Index(['District', 'State ', 'Growth', 'Sex_Ratio', 'Literacy'], dtype='object')\n"
     ]
    },
    {
     "data": {
      "text/html": [
       "<div>\n",
       "<style scoped>\n",
       "    .dataframe tbody tr th:only-of-type {\n",
       "        vertical-align: middle;\n",
       "    }\n",
       "\n",
       "    .dataframe tbody tr th {\n",
       "        vertical-align: top;\n",
       "    }\n",
       "\n",
       "    .dataframe thead th {\n",
       "        text-align: right;\n",
       "    }\n",
       "</style>\n",
       "<table border=\"1\" class=\"dataframe\">\n",
       "  <thead>\n",
       "    <tr style=\"text-align: right;\">\n",
       "      <th></th>\n",
       "      <th>District</th>\n",
       "      <th>State</th>\n",
       "      <th>Growth</th>\n",
       "      <th>Sex_Ratio</th>\n",
       "      <th>Literacy</th>\n",
       "    </tr>\n",
       "  </thead>\n",
       "  <tbody>\n",
       "    <tr>\n",
       "      <th>0</th>\n",
       "      <td>South Andaman</td>\n",
       "      <td>Andaman And Nicobar Islands</td>\n",
       "      <td>0.1423</td>\n",
       "      <td>871.0</td>\n",
       "      <td>89.13</td>\n",
       "    </tr>\n",
       "    <tr>\n",
       "      <th>1</th>\n",
       "      <td>North And Middle Andaman</td>\n",
       "      <td>Andaman And Nicobar Islands</td>\n",
       "      <td>-0.0002</td>\n",
       "      <td>925.0</td>\n",
       "      <td>83.91</td>\n",
       "    </tr>\n",
       "    <tr>\n",
       "      <th>2</th>\n",
       "      <td>Nicobars</td>\n",
       "      <td>Andaman And Nicobar Islands</td>\n",
       "      <td>-0.1242</td>\n",
       "      <td>777.0</td>\n",
       "      <td>78.06</td>\n",
       "    </tr>\n",
       "  </tbody>\n",
       "</table>\n",
       "</div>"
      ],
      "text/plain": [
       "                   District                       State   Growth Sex_Ratio  \\\n",
       "0             South Andaman  Andaman And Nicobar Islands  0.1423     871.0   \n",
       "1  North And Middle Andaman  Andaman And Nicobar Islands -0.0002     925.0   \n",
       "2                  Nicobars  Andaman And Nicobar Islands -0.1242     777.0   \n",
       "\n",
       "  Literacy  \n",
       "0    89.13  \n",
       "1    83.91  \n",
       "2    78.06  "
      ]
     },
     "execution_count": 3,
     "metadata": {},
     "output_type": "execute_result"
    }
   ],
   "source": [
    "# 1st : Read information dataset & explore it:\n",
    "import pandas as pd\n",
    "info_df = pd.read_excel('Dataset1.xlsx')\n",
    "print(info_df.info())\n",
    "print(info_df.columns)\n",
    "info_df.head(3)"
   ]
  },
  {
   "cell_type": "markdown",
   "metadata": {
    "id": "ZUPKInai3fL1"
   },
   "source": [
    ">**Issues:**\n",
    "1. Growth ,Sex_Ratio ,Literacy cols need to be converted as float dtype.\n",
    "2. 'State ' col should convert 'State' `Remove the white-space`.\n",
    "[This was the root reason of this error : database error: no such 'State'column.]"
   ]
  },
  {
   "cell_type": "code",
   "execution_count": 4,
   "metadata": {
    "colab": {
     "base_uri": "https://localhost:8080/",
     "height": 432
    },
    "id": "yNXBvaaywSAs",
    "outputId": "67e659eb-f731-42bc-8f98-e081c88ece27"
   },
   "outputs": [
    {
     "name": "stdout",
     "output_type": "stream",
     "text": [
      "<class 'pandas.core.frame.DataFrame'>\n",
      "RangeIndex: 640 entries, 0 to 639\n",
      "Data columns (total 4 columns):\n",
      " #   Column      Non-Null Count  Dtype  \n",
      "---  ------      --------------  -----  \n",
      " 0   District    640 non-null    object \n",
      " 1   State       607 non-null    object \n",
      " 2   Area_km2    640 non-null    float64\n",
      " 3   Population  640 non-null    float64\n",
      "dtypes: float64(2), object(2)\n",
      "memory usage: 20.1+ KB\n",
      "None\n",
      "Index(['District', 'State', 'Area_km2', 'Population'], dtype='object')\n"
     ]
    },
    {
     "data": {
      "text/html": [
       "<div>\n",
       "<style scoped>\n",
       "    .dataframe tbody tr th:only-of-type {\n",
       "        vertical-align: middle;\n",
       "    }\n",
       "\n",
       "    .dataframe tbody tr th {\n",
       "        vertical-align: top;\n",
       "    }\n",
       "\n",
       "    .dataframe thead th {\n",
       "        text-align: right;\n",
       "    }\n",
       "</style>\n",
       "<table border=\"1\" class=\"dataframe\">\n",
       "  <thead>\n",
       "    <tr style=\"text-align: right;\">\n",
       "      <th></th>\n",
       "      <th>District</th>\n",
       "      <th>State</th>\n",
       "      <th>Area_km2</th>\n",
       "      <th>Population</th>\n",
       "    </tr>\n",
       "  </thead>\n",
       "  <tbody>\n",
       "    <tr>\n",
       "      <th>0</th>\n",
       "      <td>Adilabad</td>\n",
       "      <td>Andhra Pradesh</td>\n",
       "      <td>16105.0</td>\n",
       "      <td>2741239.0</td>\n",
       "    </tr>\n",
       "    <tr>\n",
       "      <th>1</th>\n",
       "      <td>Agra</td>\n",
       "      <td>Uttar Pradesh</td>\n",
       "      <td>4041.0</td>\n",
       "      <td>4418797.0</td>\n",
       "    </tr>\n",
       "    <tr>\n",
       "      <th>2</th>\n",
       "      <td>Ahmadabad</td>\n",
       "      <td>Gujarat</td>\n",
       "      <td>8107.0</td>\n",
       "      <td>7214225.0</td>\n",
       "    </tr>\n",
       "    <tr>\n",
       "      <th>3</th>\n",
       "      <td>Ahmadnagar</td>\n",
       "      <td>Maharashtra</td>\n",
       "      <td>17048.0</td>\n",
       "      <td>4543159.0</td>\n",
       "    </tr>\n",
       "    <tr>\n",
       "      <th>4</th>\n",
       "      <td>Aizawl</td>\n",
       "      <td>Mizoram</td>\n",
       "      <td>3576.0</td>\n",
       "      <td>400309.0</td>\n",
       "    </tr>\n",
       "  </tbody>\n",
       "</table>\n",
       "</div>"
      ],
      "text/plain": [
       "     District           State  Area_km2  Population\n",
       "0    Adilabad  Andhra Pradesh   16105.0   2741239.0\n",
       "1        Agra   Uttar Pradesh    4041.0   4418797.0\n",
       "2   Ahmadabad         Gujarat    8107.0   7214225.0\n",
       "3  Ahmadnagar     Maharashtra   17048.0   4543159.0\n",
       "4      Aizawl         Mizoram    3576.0    400309.0"
      ]
     },
     "execution_count": 4,
     "metadata": {},
     "output_type": "execute_result"
    }
   ],
   "source": [
    "# 2nd : Read population dataset & explore it:\n",
    "pop_df = pd.read_excel('Dataset2-Population.xlsx')\n",
    "print(pop_df.info())\n",
    "print(pop_df.columns)\n",
    "pop_df.head()"
   ]
  },
  {
   "cell_type": "code",
   "execution_count": 5,
   "metadata": {
    "id": "_kUf3iU1bl5Y"
   },
   "outputs": [],
   "source": [
    "# 3rd : Data Wrangling step:\n",
    "# Convert the columns types in 'info_df' from object to float.\n",
    "info_df['Growth'] = pd.to_numeric(info_df['Growth'], errors='coerce')\n",
    "info_df['Sex_Ratio'] = pd.to_numeric(info_df['Sex_Ratio'], errors='coerce')\n",
    "info_df['Literacy'] = pd.to_numeric(info_df['Literacy'], errors='coerce')\n",
    "\n",
    "# Edit 'State ' column to be 'State' ,Removing WhiteSpace.\n",
    "info_df.rename(columns = {'State ':'State'} , inplace=True)"
   ]
  },
  {
   "cell_type": "code",
   "execution_count": 6,
   "metadata": {
    "colab": {
     "base_uri": "https://localhost:8080/"
    },
    "id": "j51h5bWCBqIa",
    "outputId": "6e1da489-bd68-4482-f151-d9e30322cb54"
   },
   "outputs": [
    {
     "data": {
      "text/plain": [
       "[('info_table',), ('pop_table',)]"
      ]
     },
     "execution_count": 6,
     "metadata": {},
     "output_type": "execute_result"
    }
   ],
   "source": [
    "# 4th : create SQL database:\n",
    "# Create database called 'indian_census'\n",
    "db_connect = sqlite3.connect('indian_census')\n",
    "# Cursors allow us to excute SQL_queries with DB.\n",
    "cur = db_connect.cursor()\n",
    "# create tables \"info_table\" & \"pop_table\" in the database.\n",
    "cur.execute(\"create table if not exists info_table ('District' object not null primary key,'State' object,'Growth' float64,'Sex_Ratio' float64,'Literacy' float64)\")\n",
    "cur.execute(\"create table if not exists pop_table  ('District' object not null primary key,'State' object,'Area_km2' float64,'Population' float64)\")\n",
    "\n",
    "# show all the new tables in the newly created SQL Database.\n",
    "cur.execute(\"SELECT name from sqlite_master where type='table' order by name;\")\n",
    "results = cur.fetchall()\n",
    "results"
   ]
  },
  {
   "cell_type": "code",
   "execution_count": 7,
   "metadata": {
    "id": "yxwu5zouselh"
   },
   "outputs": [],
   "source": [
    "# 5th : importing our data into 'indian_census'SQL Database:\n",
    "# use pandas to run SQL querry, allows us to save our data into SQL database.\n",
    "import pandas as pd\n",
    "info_df.to_sql('info_table' , db_connect , if_exists='replace' , index = False)\n",
    "pop_df.to_sql('pop_table' , db_connect , if_exists='replace' ,  index = False)"
   ]
  },
  {
   "cell_type": "markdown",
   "metadata": {
    "id": "3M0AkscD4Yw2"
   },
   "source": [
    "## ✳️ Answering some Basic Quastions:"
   ]
  },
  {
   "cell_type": "code",
   "execution_count": 8,
   "metadata": {
    "colab": {
     "base_uri": "https://localhost:8080/",
     "height": 143
    },
    "id": "yVfa6ZXrued7",
    "outputId": "80f4f000-5178-4671-e0cb-00cede913f0a"
   },
   "outputs": [
    {
     "data": {
      "text/html": [
       "<div>\n",
       "<style scoped>\n",
       "    .dataframe tbody tr th:only-of-type {\n",
       "        vertical-align: middle;\n",
       "    }\n",
       "\n",
       "    .dataframe tbody tr th {\n",
       "        vertical-align: top;\n",
       "    }\n",
       "\n",
       "    .dataframe thead th {\n",
       "        text-align: right;\n",
       "    }\n",
       "</style>\n",
       "<table border=\"1\" class=\"dataframe\">\n",
       "  <thead>\n",
       "    <tr style=\"text-align: right;\">\n",
       "      <th></th>\n",
       "      <th>District</th>\n",
       "      <th>State</th>\n",
       "      <th>Growth</th>\n",
       "      <th>Sex_Ratio</th>\n",
       "      <th>Literacy</th>\n",
       "    </tr>\n",
       "  </thead>\n",
       "  <tbody>\n",
       "    <tr>\n",
       "      <th>0</th>\n",
       "      <td>South Andaman</td>\n",
       "      <td>Andaman And Nicobar Islands</td>\n",
       "      <td>0.1423</td>\n",
       "      <td>871.0</td>\n",
       "      <td>89.13</td>\n",
       "    </tr>\n",
       "    <tr>\n",
       "      <th>1</th>\n",
       "      <td>North And Middle Andaman</td>\n",
       "      <td>Andaman And Nicobar Islands</td>\n",
       "      <td>-0.0002</td>\n",
       "      <td>925.0</td>\n",
       "      <td>83.91</td>\n",
       "    </tr>\n",
       "    <tr>\n",
       "      <th>2</th>\n",
       "      <td>Nicobars</td>\n",
       "      <td>Andaman And Nicobar Islands</td>\n",
       "      <td>-0.1242</td>\n",
       "      <td>777.0</td>\n",
       "      <td>78.06</td>\n",
       "    </tr>\n",
       "  </tbody>\n",
       "</table>\n",
       "</div>"
      ],
      "text/plain": [
       "                   District                        State  Growth  Sex_Ratio  \\\n",
       "0             South Andaman  Andaman And Nicobar Islands  0.1423      871.0   \n",
       "1  North And Middle Andaman  Andaman And Nicobar Islands -0.0002      925.0   \n",
       "2                  Nicobars  Andaman And Nicobar Islands -0.1242      777.0   \n",
       "\n",
       "   Literacy  \n",
       "0     89.13  \n",
       "1     83.91  \n",
       "2     78.06  "
      ]
     },
     "execution_count": 8,
     "metadata": {},
     "output_type": "execute_result"
    }
   ],
   "source": [
    "# 1) Show the first 3 rows in the info_table:\n",
    "from numpy import select\n",
    "first_3_rows = pd.read_sql_query('select *from info_table limit 3',\n",
    "                      db_connect)\n",
    "first_3_rows"
   ]
  },
  {
   "cell_type": "code",
   "execution_count": 9,
   "metadata": {
    "colab": {
     "base_uri": "https://localhost:8080/"
    },
    "id": "u2Dkl_W6xFit",
    "outputId": "7874d982-794f-4690-8be2-e73dea6313b2"
   },
   "outputs": [
    {
     "name": "stdout",
     "output_type": "stream",
     "text": [
      "   num_of_rows\n",
      "0          641\n",
      "   num_of_rows\n",
      "0          640\n"
     ]
    }
   ],
   "source": [
    "# 2) The num of rows in each table:\n",
    "info_no = pd.read_sql_query('''select count(*) num_of_rows\n",
    "                               from info_table\n",
    "                            ''',db_connect)\n",
    "\n",
    "pop_no = pd.read_sql_query('''select count(*) num_of_rows\n",
    "                              from pop_table\n",
    "                           ''',db_connect)\n",
    "print(info_no)\n",
    "print(pop_no)"
   ]
  },
  {
   "cell_type": "code",
   "execution_count": 10,
   "metadata": {
    "colab": {
     "base_uri": "https://localhost:8080/",
     "height": 206
    },
    "id": "kBtK98T8xFgK",
    "outputId": "99bdac94-194e-44a1-e385-df2b8cd4f385"
   },
   "outputs": [
    {
     "data": {
      "text/html": [
       "<div>\n",
       "<style scoped>\n",
       "    .dataframe tbody tr th:only-of-type {\n",
       "        vertical-align: middle;\n",
       "    }\n",
       "\n",
       "    .dataframe tbody tr th {\n",
       "        vertical-align: top;\n",
       "    }\n",
       "\n",
       "    .dataframe thead th {\n",
       "        text-align: right;\n",
       "    }\n",
       "</style>\n",
       "<table border=\"1\" class=\"dataframe\">\n",
       "  <thead>\n",
       "    <tr style=\"text-align: right;\">\n",
       "      <th></th>\n",
       "      <th>District</th>\n",
       "      <th>State</th>\n",
       "      <th>Growth</th>\n",
       "      <th>Sex_Ratio</th>\n",
       "      <th>Literacy</th>\n",
       "    </tr>\n",
       "  </thead>\n",
       "  <tbody>\n",
       "    <tr>\n",
       "      <th>0</th>\n",
       "      <td>Patna</td>\n",
       "      <td>Bihar</td>\n",
       "      <td>0.2373</td>\n",
       "      <td>897.0</td>\n",
       "      <td>70.68</td>\n",
       "    </tr>\n",
       "    <tr>\n",
       "      <th>1</th>\n",
       "      <td>Purbi Champaran</td>\n",
       "      <td>Bihar</td>\n",
       "      <td>0.2943</td>\n",
       "      <td>902.0</td>\n",
       "      <td>55.79</td>\n",
       "    </tr>\n",
       "    <tr>\n",
       "      <th>2</th>\n",
       "      <td>Muzaffarpur</td>\n",
       "      <td>Bihar</td>\n",
       "      <td>0.2814</td>\n",
       "      <td>900.0</td>\n",
       "      <td>63.43</td>\n",
       "    </tr>\n",
       "    <tr>\n",
       "      <th>3</th>\n",
       "      <td>Madhubani</td>\n",
       "      <td>Bihar</td>\n",
       "      <td>0.2551</td>\n",
       "      <td>926.0</td>\n",
       "      <td>58.62</td>\n",
       "    </tr>\n",
       "    <tr>\n",
       "      <th>4</th>\n",
       "      <td>Gaya</td>\n",
       "      <td>Bihar</td>\n",
       "      <td>0.2643</td>\n",
       "      <td>937.0</td>\n",
       "      <td>63.67</td>\n",
       "    </tr>\n",
       "  </tbody>\n",
       "</table>\n",
       "</div>"
      ],
      "text/plain": [
       "          District  State  Growth  Sex_Ratio  Literacy\n",
       "0            Patna  Bihar  0.2373      897.0     70.68\n",
       "1  Purbi Champaran  Bihar  0.2943      902.0     55.79\n",
       "2      Muzaffarpur  Bihar  0.2814      900.0     63.43\n",
       "3        Madhubani  Bihar  0.2551      926.0     58.62\n",
       "4             Gaya  Bihar  0.2643      937.0     63.67"
      ]
     },
     "execution_count": 10,
     "metadata": {},
     "output_type": "execute_result"
    }
   ],
   "source": [
    "# 3) Show me the data points related to State of Jharkhand & Bihar:\n",
    "pd.read_sql_query('''select * \n",
    "                     from info_table\n",
    "                     where State in ('Jharkhand','Bihar')\n",
    "                  ''',db_connect).head()"
   ]
  },
  {
   "cell_type": "code",
   "execution_count": 11,
   "metadata": {
    "colab": {
     "base_uri": "https://localhost:8080/",
     "height": 98
    },
    "id": "6dSw7DWVxFd6",
    "outputId": "c4958005-1b4d-4389-ec11-55650b3c2b6e"
   },
   "outputs": [
    {
     "name": "stdout",
     "output_type": "stream",
     "text": [
      "1210854977.0\n"
     ]
    },
    {
     "data": {
      "text/html": [
       "<div>\n",
       "<style scoped>\n",
       "    .dataframe tbody tr th:only-of-type {\n",
       "        vertical-align: middle;\n",
       "    }\n",
       "\n",
       "    .dataframe tbody tr th {\n",
       "        vertical-align: top;\n",
       "    }\n",
       "\n",
       "    .dataframe thead th {\n",
       "        text-align: right;\n",
       "    }\n",
       "</style>\n",
       "<table border=\"1\" class=\"dataframe\">\n",
       "  <thead>\n",
       "    <tr style=\"text-align: right;\">\n",
       "      <th></th>\n",
       "      <th>Total_population</th>\n",
       "    </tr>\n",
       "  </thead>\n",
       "  <tbody>\n",
       "    <tr>\n",
       "      <th>0</th>\n",
       "      <td>1.210855e+09</td>\n",
       "    </tr>\n",
       "  </tbody>\n",
       "</table>\n",
       "</div>"
      ],
      "text/plain": [
       "   Total_population\n",
       "0      1.210855e+09"
      ]
     },
     "execution_count": 11,
     "metadata": {},
     "output_type": "execute_result"
    }
   ],
   "source": [
    "# 4) Calculate me the population of india:\n",
    "Total_population = pd.read_sql_query('''select sum(Population) Total_population\n",
    "                     from pop_table\n",
    "                  ''',db_connect)\n",
    "\n",
    "print(Total_population.iloc[0,0])\n",
    "Total_population"
   ]
  },
  {
   "cell_type": "code",
   "execution_count": 12,
   "metadata": {
    "colab": {
     "base_uri": "https://localhost:8080/",
     "height": 81
    },
    "id": "830MfC52xFb4",
    "outputId": "f2306294-0f91-4a1e-8ee4-3b35905a5ef1"
   },
   "outputs": [
    {
     "data": {
      "text/html": [
       "<div>\n",
       "<style scoped>\n",
       "    .dataframe tbody tr th:only-of-type {\n",
       "        vertical-align: middle;\n",
       "    }\n",
       "\n",
       "    .dataframe tbody tr th {\n",
       "        vertical-align: top;\n",
       "    }\n",
       "\n",
       "    .dataframe thead th {\n",
       "        text-align: right;\n",
       "    }\n",
       "</style>\n",
       "<table border=\"1\" class=\"dataframe\">\n",
       "  <thead>\n",
       "    <tr style=\"text-align: right;\">\n",
       "      <th></th>\n",
       "      <th>Avg_growth</th>\n",
       "    </tr>\n",
       "  </thead>\n",
       "  <tbody>\n",
       "    <tr>\n",
       "      <th>0</th>\n",
       "      <td>19.245922</td>\n",
       "    </tr>\n",
       "  </tbody>\n",
       "</table>\n",
       "</div>"
      ],
      "text/plain": [
       "   Avg_growth\n",
       "0   19.245922"
      ]
     },
     "execution_count": 12,
     "metadata": {},
     "output_type": "execute_result"
    }
   ],
   "source": [
    "# 5) Tell me the average growth Rate of india:\n",
    "pd.read_sql_query('''select avg(Growth*100) Avg_growth\n",
    "                     from info_table\n",
    "                  ''',db_connect)"
   ]
  },
  {
   "cell_type": "code",
   "execution_count": 13,
   "metadata": {
    "colab": {
     "base_uri": "https://localhost:8080/",
     "height": 143
    },
    "id": "Ld-0rOnsxFZi",
    "outputId": "a08f8bf4-04f1-4d65-e250-804eb6acc408"
   },
   "outputs": [
    {
     "data": {
      "text/html": [
       "<div>\n",
       "<style scoped>\n",
       "    .dataframe tbody tr th:only-of-type {\n",
       "        vertical-align: middle;\n",
       "    }\n",
       "\n",
       "    .dataframe tbody tr th {\n",
       "        vertical-align: top;\n",
       "    }\n",
       "\n",
       "    .dataframe thead th {\n",
       "        text-align: right;\n",
       "    }\n",
       "</style>\n",
       "<table border=\"1\" class=\"dataframe\">\n",
       "  <thead>\n",
       "    <tr style=\"text-align: right;\">\n",
       "      <th></th>\n",
       "      <th>State</th>\n",
       "      <th>Avg_growth</th>\n",
       "    </tr>\n",
       "  </thead>\n",
       "  <tbody>\n",
       "    <tr>\n",
       "      <th>0</th>\n",
       "      <td>Nagaland</td>\n",
       "      <td>82.280909</td>\n",
       "    </tr>\n",
       "    <tr>\n",
       "      <th>1</th>\n",
       "      <td>Dadra and Nagar Haveli</td>\n",
       "      <td>55.880000</td>\n",
       "    </tr>\n",
       "    <tr>\n",
       "      <th>2</th>\n",
       "      <td>Daman and Diu</td>\n",
       "      <td>42.740000</td>\n",
       "    </tr>\n",
       "  </tbody>\n",
       "</table>\n",
       "</div>"
      ],
      "text/plain": [
       "                    State  Avg_growth\n",
       "0                Nagaland   82.280909\n",
       "1  Dadra and Nagar Haveli   55.880000\n",
       "2           Daman and Diu   42.740000"
      ]
     },
     "execution_count": 13,
     "metadata": {},
     "output_type": "execute_result"
    }
   ],
   "source": [
    "# 6) What is the average growth rate for each state?\n",
    "pd.read_sql_query('''select State,avg(Growth*100) Avg_growth\n",
    "                     from info_table\n",
    "                     group by State\n",
    "                     order by Avg_growth Desc\n",
    "                     limit 3\n",
    "                  ''',db_connect)"
   ]
  },
  {
   "cell_type": "code",
   "execution_count": 14,
   "metadata": {
    "colab": {
     "base_uri": "https://localhost:8080/",
     "height": 143
    },
    "id": "ITQ8ZgYDxFXm",
    "outputId": "350f8560-4281-4e99-b700-89301ea0ea08"
   },
   "outputs": [
    {
     "data": {
      "text/html": [
       "<div>\n",
       "<style scoped>\n",
       "    .dataframe tbody tr th:only-of-type {\n",
       "        vertical-align: middle;\n",
       "    }\n",
       "\n",
       "    .dataframe tbody tr th {\n",
       "        vertical-align: top;\n",
       "    }\n",
       "\n",
       "    .dataframe thead th {\n",
       "        text-align: right;\n",
       "    }\n",
       "</style>\n",
       "<table border=\"1\" class=\"dataframe\">\n",
       "  <thead>\n",
       "    <tr style=\"text-align: right;\">\n",
       "      <th></th>\n",
       "      <th>State</th>\n",
       "      <th>avg_sexRatio</th>\n",
       "    </tr>\n",
       "  </thead>\n",
       "  <tbody>\n",
       "    <tr>\n",
       "      <th>0</th>\n",
       "      <td>Kerala</td>\n",
       "      <td>1080.43</td>\n",
       "    </tr>\n",
       "    <tr>\n",
       "      <th>1</th>\n",
       "      <td>Puducherry</td>\n",
       "      <td>1074.50</td>\n",
       "    </tr>\n",
       "    <tr>\n",
       "      <th>2</th>\n",
       "      <td>Uttarakhand</td>\n",
       "      <td>1010.46</td>\n",
       "    </tr>\n",
       "  </tbody>\n",
       "</table>\n",
       "</div>"
      ],
      "text/plain": [
       "         State  avg_sexRatio\n",
       "0       Kerala       1080.43\n",
       "1   Puducherry       1074.50\n",
       "2  Uttarakhand       1010.46"
      ]
     },
     "execution_count": 14,
     "metadata": {},
     "output_type": "execute_result"
    }
   ],
   "source": [
    "# 7) What is the avg Sex_Ratio for each state?\n",
    "pd.read_sql_query('''select State, round(avg(Sex_Ratio),2) avg_sexRatio\n",
    "                     from info_table\n",
    "                     group by State\n",
    "                     order by avg_sexRatio desc\n",
    "                     limit 3\n",
    "                  ''',db_connect)"
   ]
  },
  {
   "cell_type": "code",
   "execution_count": 15,
   "metadata": {
    "colab": {
     "base_uri": "https://localhost:8080/",
     "height": 112
    },
    "id": "HHBE2RrZxFVV",
    "outputId": "6b387fa0-4182-43e0-ff31-16eee7d49001"
   },
   "outputs": [
    {
     "data": {
      "text/html": [
       "<div>\n",
       "<style scoped>\n",
       "    .dataframe tbody tr th:only-of-type {\n",
       "        vertical-align: middle;\n",
       "    }\n",
       "\n",
       "    .dataframe tbody tr th {\n",
       "        vertical-align: top;\n",
       "    }\n",
       "\n",
       "    .dataframe thead th {\n",
       "        text-align: right;\n",
       "    }\n",
       "</style>\n",
       "<table border=\"1\" class=\"dataframe\">\n",
       "  <thead>\n",
       "    <tr style=\"text-align: right;\">\n",
       "      <th></th>\n",
       "      <th>State</th>\n",
       "      <th>avg_literacy</th>\n",
       "    </tr>\n",
       "  </thead>\n",
       "  <tbody>\n",
       "    <tr>\n",
       "      <th>0</th>\n",
       "      <td>Kerala</td>\n",
       "      <td>94.0</td>\n",
       "    </tr>\n",
       "    <tr>\n",
       "      <th>1</th>\n",
       "      <td>Lakshadweep</td>\n",
       "      <td>92.0</td>\n",
       "    </tr>\n",
       "  </tbody>\n",
       "</table>\n",
       "</div>"
      ],
      "text/plain": [
       "         State  avg_literacy\n",
       "0       Kerala          94.0\n",
       "1  Lakshadweep          92.0"
      ]
     },
     "execution_count": 15,
     "metadata": {},
     "output_type": "execute_result"
    }
   ],
   "source": [
    "# 8) What is the avg_Literacy for each state ? and show me the states with score more than 90.\n",
    "pd.read_sql_query('''select State, round(avg(Literacy),0) avg_literacy\n",
    "                     from info_table \n",
    "                     group by State\n",
    "                     having avg_literacy >90\n",
    "                     order by avg_literacy desc\n",
    "                  ''',db_connect)"
   ]
  },
  {
   "cell_type": "code",
   "execution_count": 16,
   "metadata": {
    "colab": {
     "base_uri": "https://localhost:8080/",
     "height": 143
    },
    "id": "NIbzOzNOxFTJ",
    "outputId": "6d3fa75e-1408-48a5-c7d6-a3d9fa43bd31"
   },
   "outputs": [
    {
     "data": {
      "text/html": [
       "<div>\n",
       "<style scoped>\n",
       "    .dataframe tbody tr th:only-of-type {\n",
       "        vertical-align: middle;\n",
       "    }\n",
       "\n",
       "    .dataframe tbody tr th {\n",
       "        vertical-align: top;\n",
       "    }\n",
       "\n",
       "    .dataframe thead th {\n",
       "        text-align: right;\n",
       "    }\n",
       "</style>\n",
       "<table border=\"1\" class=\"dataframe\">\n",
       "  <thead>\n",
       "    <tr style=\"text-align: right;\">\n",
       "      <th></th>\n",
       "      <th>State</th>\n",
       "      <th>avg_growth</th>\n",
       "    </tr>\n",
       "  </thead>\n",
       "  <tbody>\n",
       "    <tr>\n",
       "      <th>0</th>\n",
       "      <td>Nagaland</td>\n",
       "      <td>82.0</td>\n",
       "    </tr>\n",
       "    <tr>\n",
       "      <th>1</th>\n",
       "      <td>Dadra and Nagar Haveli</td>\n",
       "      <td>56.0</td>\n",
       "    </tr>\n",
       "    <tr>\n",
       "      <th>2</th>\n",
       "      <td>Daman and Diu</td>\n",
       "      <td>43.0</td>\n",
       "    </tr>\n",
       "  </tbody>\n",
       "</table>\n",
       "</div>"
      ],
      "text/plain": [
       "                    State  avg_growth\n",
       "0                Nagaland        82.0\n",
       "1  Dadra and Nagar Haveli        56.0\n",
       "2           Daman and Diu        43.0"
      ]
     },
     "execution_count": 16,
     "metadata": {},
     "output_type": "execute_result"
    }
   ],
   "source": [
    "# 9) show me the top 3 state with highest growth Rate:\n",
    "pd.read_sql_query('''select state , round(avg(Growth*100),0) avg_growth\n",
    "                     from info_table\n",
    "                     group by State\n",
    "                     order by avg_growth desc\n",
    "                     limit 3\n",
    "                  ''',db_connect)"
   ]
  },
  {
   "cell_type": "code",
   "execution_count": 17,
   "metadata": {
    "colab": {
     "base_uri": "https://localhost:8080/",
     "height": 175
    },
    "id": "w1oKZ8rQxFQz",
    "outputId": "093feff2-2d96-4f7e-edfe-58407d9fb6ad"
   },
   "outputs": [
    {
     "data": {
      "text/html": [
       "<div>\n",
       "<style scoped>\n",
       "    .dataframe tbody tr th:only-of-type {\n",
       "        vertical-align: middle;\n",
       "    }\n",
       "\n",
       "    .dataframe tbody tr th {\n",
       "        vertical-align: top;\n",
       "    }\n",
       "\n",
       "    .dataframe thead th {\n",
       "        text-align: right;\n",
       "    }\n",
       "</style>\n",
       "<table border=\"1\" class=\"dataframe\">\n",
       "  <thead>\n",
       "    <tr style=\"text-align: right;\">\n",
       "      <th></th>\n",
       "      <th>State</th>\n",
       "      <th>avg_sex_Ratio</th>\n",
       "    </tr>\n",
       "  </thead>\n",
       "  <tbody>\n",
       "    <tr>\n",
       "      <th>0</th>\n",
       "      <td>State</td>\n",
       "      <td>NaN</td>\n",
       "    </tr>\n",
       "    <tr>\n",
       "      <th>1</th>\n",
       "      <td>Dadra and Nagar Haveli</td>\n",
       "      <td>774.0</td>\n",
       "    </tr>\n",
       "    <tr>\n",
       "      <th>2</th>\n",
       "      <td>Daman and Diu</td>\n",
       "      <td>782.5</td>\n",
       "    </tr>\n",
       "    <tr>\n",
       "      <th>3</th>\n",
       "      <td>Chandigarh</td>\n",
       "      <td>818.0</td>\n",
       "    </tr>\n",
       "  </tbody>\n",
       "</table>\n",
       "</div>"
      ],
      "text/plain": [
       "                    State  avg_sex_Ratio\n",
       "0                   State            NaN\n",
       "1  Dadra and Nagar Haveli          774.0\n",
       "2           Daman and Diu          782.5\n",
       "3              Chandigarh          818.0"
      ]
     },
     "execution_count": 17,
     "metadata": {},
     "output_type": "execute_result"
    }
   ],
   "source": [
    "# 10) show me the buttom 3 state with lowest sex Rate:\n",
    "pd.read_sql_query('''select state , avg(Sex_Ratio) avg_sex_Ratio\n",
    "                     from info_table\n",
    "                     group by State\n",
    "                     order by avg_sex_Ratio asc\n",
    "                     limit 4\n",
    "                  ''',db_connect)"
   ]
  },
  {
   "cell_type": "code",
   "execution_count": 18,
   "metadata": {
    "colab": {
     "base_uri": "https://localhost:8080/",
     "height": 394
    },
    "id": "QGBjWUUaxFNl",
    "outputId": "b37050de-d8ae-4c80-9221-e412a333217c"
   },
   "outputs": [
    {
     "name": "stdout",
     "output_type": "stream",
     "text": [
      "               State  avg_literacy\n",
      "0              Bihar          62.0\n",
      "1  Arunachal Pradesh          64.0\n",
      "2  Jammu and Kashmir          65.0 \n",
      "\n",
      "          State  avg_literacy\n",
      "0       Kerala          94.0\n",
      "1  Lakshadweep          92.0\n",
      "2      Mizoram          89.0\n"
     ]
    },
    {
     "data": {
      "text/html": [
       "<div>\n",
       "<style scoped>\n",
       "    .dataframe tbody tr th:only-of-type {\n",
       "        vertical-align: middle;\n",
       "    }\n",
       "\n",
       "    .dataframe tbody tr th {\n",
       "        vertical-align: top;\n",
       "    }\n",
       "\n",
       "    .dataframe thead th {\n",
       "        text-align: right;\n",
       "    }\n",
       "</style>\n",
       "<table border=\"1\" class=\"dataframe\">\n",
       "  <thead>\n",
       "    <tr style=\"text-align: right;\">\n",
       "      <th></th>\n",
       "      <th>State</th>\n",
       "      <th>avg_literacy</th>\n",
       "    </tr>\n",
       "  </thead>\n",
       "  <tbody>\n",
       "    <tr>\n",
       "      <th>0</th>\n",
       "      <td>Kerala</td>\n",
       "      <td>94.0</td>\n",
       "    </tr>\n",
       "    <tr>\n",
       "      <th>1</th>\n",
       "      <td>Lakshadweep</td>\n",
       "      <td>92.0</td>\n",
       "    </tr>\n",
       "    <tr>\n",
       "      <th>2</th>\n",
       "      <td>Mizoram</td>\n",
       "      <td>89.0</td>\n",
       "    </tr>\n",
       "    <tr>\n",
       "      <th>3</th>\n",
       "      <td>Jammu and Kashmir</td>\n",
       "      <td>65.0</td>\n",
       "    </tr>\n",
       "    <tr>\n",
       "      <th>4</th>\n",
       "      <td>Arunachal Pradesh</td>\n",
       "      <td>64.0</td>\n",
       "    </tr>\n",
       "    <tr>\n",
       "      <th>5</th>\n",
       "      <td>Bihar</td>\n",
       "      <td>62.0</td>\n",
       "    </tr>\n",
       "  </tbody>\n",
       "</table>\n",
       "</div>"
      ],
      "text/plain": [
       "               State  avg_literacy\n",
       "0             Kerala          94.0\n",
       "1        Lakshadweep          92.0\n",
       "2            Mizoram          89.0\n",
       "3  Jammu and Kashmir          65.0\n",
       "4  Arunachal Pradesh          64.0\n",
       "5              Bihar          62.0"
      ]
     },
     "execution_count": 18,
     "metadata": {},
     "output_type": "execute_result"
    }
   ],
   "source": [
    "# 11) Show me top & buttom state at literacy_Ratio both in one single table.\n",
    "# 1st: Create topstates Table that contain top 3 states with highest 'Literacy_Ratio':\n",
    "cur.execute(\"create table if not exists topstates  ('State' object,'topstates' float64)\")\n",
    "top_3_states_df = pd.read_sql_query(''' select state , round(avg(Literacy),0) avg_literacy\n",
    "                                        from info_table\n",
    "                                        group by State\n",
    "                                        order by avg_literacy desc\n",
    "                                        limit 3;''',db_connect)\n",
    "top_3_states_df.to_sql('topstates',db_connect,if_exists='replace' ,  index =False)\n",
    "\n",
    "# 2nd: Create topstates Table that contain buttom 3 states with lowest 'Literacy_Ratio':\n",
    "cur.execute(\"create table if not exists buttomstates  ('State' object,'buttomstates' float64)\")\n",
    "buttom_3_states_df = pd.read_sql_query(''' select state , round(avg(Literacy),0) avg_literacy\n",
    "                                           from info_table\n",
    "                                           group by State\n",
    "                                           order by avg_literacy asc\n",
    "                                           limit 4;''',db_connect).drop(index=0)\n",
    "buttom_3_states_df.to_sql('buttomstates',db_connect,if_exists='replace' , index =False)\n",
    "\n",
    "# 3rd: Show each Table separately ,then display them in single table using 'Union-operator':\n",
    "print(pd.read_sql_query('select * from buttomstates',db_connect),\"\\n\\n\",\n",
    "      pd.read_sql_query('select * from topstates',db_connect))\n",
    "pd.read_sql_query(''' select * from (topstates)a\n",
    "                      union\n",
    "                      select * from (buttomstates)b\n",
    "                      order by avg_literacy desc;\n",
    "                  ''',db_connect)"
   ]
  },
  {
   "cell_type": "code",
   "execution_count": 19,
   "metadata": {
    "colab": {
     "base_uri": "https://localhost:8080/",
     "height": 269
    },
    "id": "b3H9fY_FxFKk",
    "outputId": "051a8352-de78-4943-daec-52b6bbd7e658"
   },
   "outputs": [
    {
     "data": {
      "text/html": [
       "<div>\n",
       "<style scoped>\n",
       "    .dataframe tbody tr th:only-of-type {\n",
       "        vertical-align: middle;\n",
       "    }\n",
       "\n",
       "    .dataframe tbody tr th {\n",
       "        vertical-align: top;\n",
       "    }\n",
       "\n",
       "    .dataframe thead th {\n",
       "        text-align: right;\n",
       "    }\n",
       "</style>\n",
       "<table border=\"1\" class=\"dataframe\">\n",
       "  <thead>\n",
       "    <tr style=\"text-align: right;\">\n",
       "      <th></th>\n",
       "      <th>State</th>\n",
       "    </tr>\n",
       "  </thead>\n",
       "  <tbody>\n",
       "    <tr>\n",
       "      <th>0</th>\n",
       "      <td>Andaman And Nicobar Islands</td>\n",
       "    </tr>\n",
       "    <tr>\n",
       "      <th>1</th>\n",
       "      <td>Andhra Pradesh</td>\n",
       "    </tr>\n",
       "    <tr>\n",
       "      <th>2</th>\n",
       "      <td>Arunachal Pradesh</td>\n",
       "    </tr>\n",
       "    <tr>\n",
       "      <th>3</th>\n",
       "      <td>Assam</td>\n",
       "    </tr>\n",
       "    <tr>\n",
       "      <th>4</th>\n",
       "      <td>Bihar</td>\n",
       "    </tr>\n",
       "    <tr>\n",
       "      <th>5</th>\n",
       "      <td>Maharashtra</td>\n",
       "    </tr>\n",
       "    <tr>\n",
       "      <th>6</th>\n",
       "      <td>Meghalaya</td>\n",
       "    </tr>\n",
       "  </tbody>\n",
       "</table>\n",
       "</div>"
      ],
      "text/plain": [
       "                         State\n",
       "0  Andaman And Nicobar Islands\n",
       "1               Andhra Pradesh\n",
       "2            Arunachal Pradesh\n",
       "3                        Assam\n",
       "4                        Bihar\n",
       "5                  Maharashtra\n",
       "6                    Meghalaya"
      ]
     },
     "execution_count": 19,
     "metadata": {},
     "output_type": "execute_result"
    }
   ],
   "source": [
    "# 12) Tell me all the states starting with letter A or B:\n",
    "pd.read_sql_query(''' select distinct state\n",
    "                      from info_table\n",
    "                      where (lower(state) like 'a%') or (lower(state) like 'b%') or\n",
    "                            (lower(state) like 'm%' and lower(state) like '%a');\n",
    "                  ''',db_connect)"
   ]
  },
  {
   "cell_type": "markdown",
   "metadata": {
    "id": "mBOzQT437Yuv"
   },
   "source": [
    "- **Population =** NO.Males + NO.Females ...1\n",
    "- **Sex_Ratio =** NO.Females / NO.Males ...2\n",
    " \n",
    "- From eq(1) we can tell `Females = pop - Males`.\n",
    "- From eq(2) we can tell `Females = Sex_Ratio * Males`.\n",
    "-  SO, `pop - Males = Sex_Ratio * Males`.\n",
    "\n",
    " ### **pop = Males(Sex_Ratio + 1)**\n",
    " >### **Males = pop/(Sex_Ratio + 1)**\n",
    " >### **Females = pop - (pop/(Sex_Ratio + 1))**"
   ]
  },
  {
   "cell_type": "code",
   "execution_count": 20,
   "metadata": {
    "colab": {
     "base_uri": "https://localhost:8080/",
     "height": 143
    },
    "id": "wpiAc222xFH8",
    "outputId": "250ae874-f4dc-4c1c-b443-a3627558ed6e"
   },
   "outputs": [
    {
     "data": {
      "text/html": [
       "<div>\n",
       "<style scoped>\n",
       "    .dataframe tbody tr th:only-of-type {\n",
       "        vertical-align: middle;\n",
       "    }\n",
       "\n",
       "    .dataframe tbody tr th {\n",
       "        vertical-align: top;\n",
       "    }\n",
       "\n",
       "    .dataframe thead th {\n",
       "        text-align: right;\n",
       "    }\n",
       "</style>\n",
       "<table border=\"1\" class=\"dataframe\">\n",
       "  <thead>\n",
       "    <tr style=\"text-align: right;\">\n",
       "      <th></th>\n",
       "      <th>State</th>\n",
       "      <th>total_males</th>\n",
       "      <th>total_females</th>\n",
       "    </tr>\n",
       "  </thead>\n",
       "  <tbody>\n",
       "    <tr>\n",
       "      <th>0</th>\n",
       "      <td>Andaman And Nicobar Islands</td>\n",
       "      <td>148014.0</td>\n",
       "      <td>126970.0</td>\n",
       "    </tr>\n",
       "    <tr>\n",
       "      <th>1</th>\n",
       "      <td>Andhra Pradesh</td>\n",
       "      <td>42439617.0</td>\n",
       "      <td>42141160.0</td>\n",
       "    </tr>\n",
       "    <tr>\n",
       "      <th>2</th>\n",
       "      <td>Arunachal Pradesh</td>\n",
       "      <td>624752.0</td>\n",
       "      <td>582402.0</td>\n",
       "    </tr>\n",
       "  </tbody>\n",
       "</table>\n",
       "</div>"
      ],
      "text/plain": [
       "                         State  total_males  total_females\n",
       "0  Andaman And Nicobar Islands     148014.0       126970.0\n",
       "1               Andhra Pradesh   42439617.0     42141160.0\n",
       "2            Arunachal Pradesh     624752.0       582402.0"
      ]
     },
     "execution_count": 20,
     "metadata": {},
     "output_type": "execute_result"
    }
   ],
   "source": [
    "# 13) What are the num of male\\female with respect to total population for each State?\n",
    "# To answer this question we need to join the info_table where (sex_ratio AKA Gender) exists and,\n",
    "# pop_table where (populatio) exists:\n",
    "pd.read_sql_query('''select d.State , sum(d.Males) total_males, sum(d.Females) total_females\n",
    "                     from\n",
    "                        (select c.District ,c.State ,c.Population,\n",
    "                                round((c.Population/(c.Sex_Ratio+1))) Males ,\n",
    "                                round((c.Population - (c.Population/(c.Sex_Ratio+1)))) Females\n",
    "                         from\n",
    "                            (select a.District, a.State, (a.Sex_Ratio/1000) Sex_Ratio,b.Population\n",
    "                              from (info_table) a \n",
    "                              inner join (pop_table) b \n",
    "                              on a.District = b.District) c)d\n",
    "                     group by d.State\n",
    "                  ''',db_connect).head(3)"
   ]
  },
  {
   "cell_type": "markdown",
   "metadata": {
    "id": "R3awg6U9NjaR"
   },
   "source": [
    "### **Literacy_Ratio = NO.literate/pop**\n",
    "> ### **NO.literate = Literacy_Ratio * pop**\n",
    "> ### **NO.illiterate = pop * (1-Literacy_Ratio)**"
   ]
  },
  {
   "cell_type": "code",
   "execution_count": 21,
   "metadata": {
    "colab": {
     "base_uri": "https://localhost:8080/",
     "height": 143
    },
    "id": "egwyv7xMxFFI",
    "outputId": "2b767e21-2ae3-4788-f3b3-1782f1bfcf67"
   },
   "outputs": [
    {
     "data": {
      "text/html": [
       "<div>\n",
       "<style scoped>\n",
       "    .dataframe tbody tr th:only-of-type {\n",
       "        vertical-align: middle;\n",
       "    }\n",
       "\n",
       "    .dataframe tbody tr th {\n",
       "        vertical-align: top;\n",
       "    }\n",
       "\n",
       "    .dataframe thead th {\n",
       "        text-align: right;\n",
       "    }\n",
       "</style>\n",
       "<table border=\"1\" class=\"dataframe\">\n",
       "  <thead>\n",
       "    <tr style=\"text-align: right;\">\n",
       "      <th></th>\n",
       "      <th>State</th>\n",
       "      <th>Population</th>\n",
       "      <th>NO_literate</th>\n",
       "      <th>NO_illiterate</th>\n",
       "    </tr>\n",
       "  </thead>\n",
       "  <tbody>\n",
       "    <tr>\n",
       "      <th>0</th>\n",
       "      <td>Andaman And Nicobar Islands</td>\n",
       "      <td>238142.0</td>\n",
       "      <td>241015.0</td>\n",
       "      <td>33969.0</td>\n",
       "    </tr>\n",
       "    <tr>\n",
       "      <th>1</th>\n",
       "      <td>Andhra Pradesh</td>\n",
       "      <td>5296741.0</td>\n",
       "      <td>56671677.0</td>\n",
       "      <td>27909100.0</td>\n",
       "    </tr>\n",
       "    <tr>\n",
       "      <th>2</th>\n",
       "      <td>Arunachal Pradesh</td>\n",
       "      <td>148226.0</td>\n",
       "      <td>761557.0</td>\n",
       "      <td>445597.0</td>\n",
       "    </tr>\n",
       "  </tbody>\n",
       "</table>\n",
       "</div>"
      ],
      "text/plain": [
       "                         State  Population  NO_literate  NO_illiterate\n",
       "0  Andaman And Nicobar Islands    238142.0     241015.0        33969.0\n",
       "1               Andhra Pradesh   5296741.0   56671677.0     27909100.0\n",
       "2            Arunachal Pradesh    148226.0     761557.0       445597.0"
      ]
     },
     "execution_count": 21,
     "metadata": {},
     "output_type": "execute_result"
    }
   ],
   "source": [
    "# 14) What are the num of literate\\illiterate with respect to total population for each State?\n",
    "pd.read_sql_query(''' select d.State ,d.Population, sum(d.literate) NO_literate ,\n",
    "                                                    sum(d.illiterate) NO_illiterate\n",
    "                      from\n",
    "                          (select c.District , c.State , c.Population,\n",
    "                                round((c.Literacy_Ratio * c.Population)) literate,\n",
    "                                round(c.Population*(1-c.Literacy_Ratio)) illiterate\n",
    "                           from\n",
    "                              (select a.District,a.State,(a.Literacy/100) Literacy_Ratio,b.Population\n",
    "                              from (info_table) a\n",
    "                              inner join (pop_table) b\n",
    "                              on a.District = b.District) c) d\n",
    "                      group by d.State\n",
    "                  ''',db_connect).head(3)"
   ]
  },
  {
   "cell_type": "markdown",
   "metadata": {
    "id": "xmw4zoljtCnG"
   },
   "source": [
    "### **Population  = previous_Census + (Growth*previous_Census)**\n",
    "> ### **previous_Census = Population / (1 + Growth)**"
   ]
  },
  {
   "cell_type": "code",
   "execution_count": 22,
   "metadata": {
    "colab": {
     "base_uri": "https://localhost:8080/",
     "height": 175
    },
    "id": "xfyiZiaqjrfq",
    "outputId": "45e3db2d-1d80-4c46-dd16-b81550fd8e95"
   },
   "outputs": [
    {
     "data": {
      "text/html": [
       "<div>\n",
       "<style scoped>\n",
       "    .dataframe tbody tr th:only-of-type {\n",
       "        vertical-align: middle;\n",
       "    }\n",
       "\n",
       "    .dataframe tbody tr th {\n",
       "        vertical-align: top;\n",
       "    }\n",
       "\n",
       "    .dataframe thead th {\n",
       "        text-align: right;\n",
       "    }\n",
       "</style>\n",
       "<table border=\"1\" class=\"dataframe\">\n",
       "  <thead>\n",
       "    <tr style=\"text-align: right;\">\n",
       "      <th></th>\n",
       "      <th>State</th>\n",
       "      <th>previous_census</th>\n",
       "      <th>avg_Growth_percent</th>\n",
       "      <th>current_pop</th>\n",
       "    </tr>\n",
       "  </thead>\n",
       "  <tbody>\n",
       "    <tr>\n",
       "      <th>0</th>\n",
       "      <td>Nagaland</td>\n",
       "      <td>1047139.0</td>\n",
       "      <td>82.280909</td>\n",
       "      <td>1978502.0</td>\n",
       "    </tr>\n",
       "    <tr>\n",
       "      <th>1</th>\n",
       "      <td>Daman and Diu</td>\n",
       "      <td>158207.0</td>\n",
       "      <td>42.740000</td>\n",
       "      <td>243247.0</td>\n",
       "    </tr>\n",
       "    <tr>\n",
       "      <th>2</th>\n",
       "      <td>Puducherry</td>\n",
       "      <td>974363.0</td>\n",
       "      <td>34.297500</td>\n",
       "      <td>1247953.0</td>\n",
       "    </tr>\n",
       "    <tr>\n",
       "      <th>3</th>\n",
       "      <td>Meghalaya</td>\n",
       "      <td>2126073.0</td>\n",
       "      <td>29.750000</td>\n",
       "      <td>2708049.0</td>\n",
       "    </tr>\n",
       "  </tbody>\n",
       "</table>\n",
       "</div>"
      ],
      "text/plain": [
       "           State  previous_census  avg_Growth_percent  current_pop\n",
       "0       Nagaland        1047139.0           82.280909    1978502.0\n",
       "1  Daman and Diu         158207.0           42.740000     243247.0\n",
       "2     Puducherry         974363.0           34.297500    1247953.0\n",
       "3      Meghalaya        2126073.0           29.750000    2708049.0"
      ]
     },
     "execution_count": 22,
     "metadata": {},
     "output_type": "execute_result"
    }
   ],
   "source": [
    "# 15) What is the population in the previous census and average growth percent for india and per state?\n",
    "pd.read_sql_query('''select d.State , sum(d.previous_census) previous_census,\n",
    "                            avg(d.Growth_percent) avg_Growth_percent,sum(d.current_pop) current_pop\n",
    "                          from\n",
    "                            (select c.District , c.State , round((c.Population / (1+ c.Growth))) previous_census,\n",
    "                                    c.Growth*100 Growth_percent,c.Population current_pop\n",
    "                              from\n",
    "                                  (select a.District , a.State ,a.Growth,b.population\n",
    "                                  from (info_table) a\n",
    "                                  inner join (pop_table) b\n",
    "                                  on a.District = b.District) c) d\n",
    "                          group by d.State\n",
    "                          order by avg_Growth_percent desc\n",
    "                   ''',db_connect).head(4)"
   ]
  },
  {
   "cell_type": "code",
   "execution_count": 23,
   "metadata": {
    "colab": {
     "base_uri": "https://localhost:8080/",
     "height": 81
    },
    "id": "IrwV-g8a5g9V",
    "outputId": "93819d62-4b81-4796-f150-b312adef6eb6"
   },
   "outputs": [
    {
     "data": {
      "text/html": [
       "<div>\n",
       "<style scoped>\n",
       "    .dataframe tbody tr th:only-of-type {\n",
       "        vertical-align: middle;\n",
       "    }\n",
       "\n",
       "    .dataframe tbody tr th {\n",
       "        vertical-align: top;\n",
       "    }\n",
       "\n",
       "    .dataframe thead th {\n",
       "        text-align: right;\n",
       "    }\n",
       "</style>\n",
       "<table border=\"1\" class=\"dataframe\">\n",
       "  <thead>\n",
       "    <tr style=\"text-align: right;\">\n",
       "      <th></th>\n",
       "      <th>india_previous_pop</th>\n",
       "      <th>india_current_pop</th>\n",
       "      <th>india_avg_Growth_percent</th>\n",
       "    </tr>\n",
       "  </thead>\n",
       "  <tbody>\n",
       "    <tr>\n",
       "      <th>0</th>\n",
       "      <td>1.005585e+09</td>\n",
       "      <td>1.183964e+09</td>\n",
       "      <td>18.984364</td>\n",
       "    </tr>\n",
       "  </tbody>\n",
       "</table>\n",
       "</div>"
      ],
      "text/plain": [
       "   india_previous_pop  india_current_pop  india_avg_Growth_percent\n",
       "0        1.005585e+09       1.183964e+09                 18.984364"
      ]
     },
     "execution_count": 23,
     "metadata": {},
     "output_type": "execute_result"
    }
   ],
   "source": [
    "pd.read_sql_query('''select round(sum(e.previous_census)) india_previous_pop , round(sum(e.current_pop)) india_current_pop,\n",
    "                            avg(avg_Growth_percent) india_avg_Growth_percent\n",
    "                     from       \n",
    "                        (select d.State , avg(d.Growth_percent) avg_Growth_percent,\n",
    "                                sum(d.previous_census) previous_census ,sum(d.current_pop) current_pop\n",
    "                          from\n",
    "                            (select c.District , c.State , round((c.Population / (1+ c.Growth))) previous_census,\n",
    "                                    c.Growth*100 Growth_percent,c.Population current_pop\n",
    "                              from\n",
    "                                  (select a.District , a.State ,a.Growth,b.population\n",
    "                                  from (info_table) a\n",
    "                                  inner join (pop_table) b\n",
    "                                  on a.District = b.District) c) d\n",
    "                          group by d.State\n",
    "                          order by avg_Growth_percent desc) e\n",
    "                   ''',db_connect)"
   ]
  },
  {
   "cell_type": "code",
   "execution_count": 24,
   "metadata": {
    "colab": {
     "base_uri": "https://localhost:8080/",
     "height": 145
    },
    "id": "WwrOrHhpjrdU",
    "outputId": "76d1b4ce-69cf-4c73-d365-8ab22597f662"
   },
   "outputs": [
    {
     "data": {
      "text/html": [
       "<div>\n",
       "<style scoped>\n",
       "    .dataframe tbody tr th:only-of-type {\n",
       "        vertical-align: middle;\n",
       "    }\n",
       "\n",
       "    .dataframe tbody tr th {\n",
       "        vertical-align: top;\n",
       "    }\n",
       "\n",
       "    .dataframe thead th {\n",
       "        text-align: right;\n",
       "    }\n",
       "</style>\n",
       "<table border=\"1\" class=\"dataframe\">\n",
       "  <thead>\n",
       "    <tr style=\"text-align: right;\">\n",
       "      <th></th>\n",
       "      <th>india_previous_pop</th>\n",
       "      <th>india_avg_Growth_percent</th>\n",
       "      <th>india_current_pop</th>\n",
       "      <th>previous_area_per_capita</th>\n",
       "      <th>current_area_per_capita</th>\n",
       "    </tr>\n",
       "  </thead>\n",
       "  <tbody>\n",
       "    <tr>\n",
       "      <th>0</th>\n",
       "      <td>1.005585e+09</td>\n",
       "      <td>18.984364</td>\n",
       "      <td>1.183964e+09</td>\n",
       "      <td>0.003149</td>\n",
       "      <td>0.002675</td>\n",
       "    </tr>\n",
       "  </tbody>\n",
       "</table>\n",
       "</div>"
      ],
      "text/plain": [
       "   india_previous_pop  india_avg_Growth_percent  india_current_pop  \\\n",
       "0        1.005585e+09                 18.984364       1.183964e+09   \n",
       "\n",
       "   previous_area_per_capita  current_area_per_capita  \n",
       "0                  0.003149                 0.002675  "
      ]
     },
     "execution_count": 24,
     "metadata": {},
     "output_type": "execute_result"
    }
   ],
   "source": [
    "# 16) What is the impact of the gradual increament of population VS. country's area?\n",
    "pd.read_sql_query('''select j.india_previous_pop , j.india_avg_Growth_percent , \n",
    "                            j.india_current_pop ,\n",
    "                           (j.india_total_Area/j.india_previous_pop)previous_area_per_capita,\n",
    "                           (j.india_total_Area/j.india_current_pop)current_area_per_capita\n",
    "                     from\n",
    "                        (select h.* , i.*\n",
    "                        from\n",
    "                            (select '1' as key ,f.*\n",
    "                            from\n",
    "                                (select round(sum(e.previous_census)) india_previous_pop , round(sum(e.current_pop)) india_current_pop,\n",
    "                                        avg(avg_Growth_percent) india_avg_Growth_percent\n",
    "                                from       \n",
    "                                    (select d.State , avg(d.Growth_percent) avg_Growth_percent,\n",
    "                                            sum(d.previous_census) previous_census ,sum(d.current_pop) current_pop\n",
    "                                      from\n",
    "                                        (select c.District , c.State , round((c.Population / (1+ c.Growth))) previous_census,\n",
    "                                                c.Growth*100 Growth_percent,c.Population current_pop\n",
    "                                          from\n",
    "                                              (select a.District , a.State ,a.Growth,b.population\n",
    "                                              from (info_table) a\n",
    "                                              inner join (pop_table) b\n",
    "                                              on a.District = b.District) c) d\n",
    "                                      group by d.State\n",
    "                                      order by avg_Growth_percent desc) e) f) h\n",
    "                          inner join\n",
    "                              (select '1' as key ,g.*\n",
    "                              from\n",
    "                                  (select sum(Area_km2) india_total_Area\n",
    "                                  from pop_table) g) i\n",
    "                          on h.key = i.key) j\n",
    "                   ''',db_connect)"
   ]
  },
  {
   "cell_type": "code",
   "execution_count": 32,
   "metadata": {
    "colab": {
     "base_uri": "https://localhost:8080/",
     "height": 502
    },
    "id": "qb21RziesgJ6",
    "outputId": "039368c5-5bf3-4f79-d756-1116c9a5beaa"
   },
   "outputs": [],
   "source": [
    "# create run() function to run query easily.\n",
    "def run(query):\n",
    "    return pd.read_sql_query(query,db_connect)"
   ]
  },
  {
   "cell_type": "code",
   "execution_count": 43,
   "metadata": {
    "id": "jgcrGbA6sf4_"
   },
   "outputs": [
    {
     "data": {
      "text/html": [
       "<div>\n",
       "<style scoped>\n",
       "    .dataframe tbody tr th:only-of-type {\n",
       "        vertical-align: middle;\n",
       "    }\n",
       "\n",
       "    .dataframe tbody tr th {\n",
       "        vertical-align: top;\n",
       "    }\n",
       "\n",
       "    .dataframe thead th {\n",
       "        text-align: right;\n",
       "    }\n",
       "</style>\n",
       "<table border=\"1\" class=\"dataframe\">\n",
       "  <thead>\n",
       "    <tr style=\"text-align: right;\">\n",
       "      <th></th>\n",
       "      <th>District</th>\n",
       "      <th>State</th>\n",
       "      <th>Growth</th>\n",
       "      <th>Sex_Ratio</th>\n",
       "      <th>Literacy</th>\n",
       "      <th>Rank</th>\n",
       "    </tr>\n",
       "  </thead>\n",
       "  <tbody>\n",
       "    <tr>\n",
       "      <th>0</th>\n",
       "      <td>South Andaman</td>\n",
       "      <td>Andaman And Nicobar Islands</td>\n",
       "      <td>0.1423</td>\n",
       "      <td>871.0</td>\n",
       "      <td>89.13</td>\n",
       "      <td>1</td>\n",
       "    </tr>\n",
       "    <tr>\n",
       "      <th>1</th>\n",
       "      <td>North And Middle Andaman</td>\n",
       "      <td>Andaman And Nicobar Islands</td>\n",
       "      <td>-0.0002</td>\n",
       "      <td>925.0</td>\n",
       "      <td>83.91</td>\n",
       "      <td>2</td>\n",
       "    </tr>\n",
       "    <tr>\n",
       "      <th>2</th>\n",
       "      <td>Nicobars</td>\n",
       "      <td>Andaman And Nicobar Islands</td>\n",
       "      <td>-0.1242</td>\n",
       "      <td>777.0</td>\n",
       "      <td>78.06</td>\n",
       "      <td>3</td>\n",
       "    </tr>\n",
       "    <tr>\n",
       "      <th>3</th>\n",
       "      <td>Hyderabad</td>\n",
       "      <td>Andhra Pradesh</td>\n",
       "      <td>0.0297</td>\n",
       "      <td>954.0</td>\n",
       "      <td>83.25</td>\n",
       "      <td>1</td>\n",
       "    </tr>\n",
       "    <tr>\n",
       "      <th>4</th>\n",
       "      <td>Rangareddy</td>\n",
       "      <td>Andhra Pradesh</td>\n",
       "      <td>0.4816</td>\n",
       "      <td>961.0</td>\n",
       "      <td>75.87</td>\n",
       "      <td>2</td>\n",
       "    </tr>\n",
       "    <tr>\n",
       "      <th>5</th>\n",
       "      <td>West Godavari</td>\n",
       "      <td>Andhra Pradesh</td>\n",
       "      <td>0.0351</td>\n",
       "      <td>1004.0</td>\n",
       "      <td>74.63</td>\n",
       "      <td>3</td>\n",
       "    </tr>\n",
       "    <tr>\n",
       "      <th>6</th>\n",
       "      <td>Papumpare</td>\n",
       "      <td>Arunachal Pradesh</td>\n",
       "      <td>0.4473</td>\n",
       "      <td>980.0</td>\n",
       "      <td>79.95</td>\n",
       "      <td>1</td>\n",
       "    </tr>\n",
       "    <tr>\n",
       "      <th>7</th>\n",
       "      <td>Lower Subansiri</td>\n",
       "      <td>Arunachal Pradesh</td>\n",
       "      <td>0.4900</td>\n",
       "      <td>984.0</td>\n",
       "      <td>74.35</td>\n",
       "      <td>2</td>\n",
       "    </tr>\n",
       "    <tr>\n",
       "      <th>8</th>\n",
       "      <td>East Siang</td>\n",
       "      <td>Arunachal Pradesh</td>\n",
       "      <td>0.1352</td>\n",
       "      <td>980.0</td>\n",
       "      <td>72.54</td>\n",
       "      <td>3</td>\n",
       "    </tr>\n",
       "    <tr>\n",
       "      <th>9</th>\n",
       "      <td>Kamrup Metropolitan</td>\n",
       "      <td>Assam</td>\n",
       "      <td>0.1834</td>\n",
       "      <td>936.0</td>\n",
       "      <td>88.71</td>\n",
       "      <td>1</td>\n",
       "    </tr>\n",
       "  </tbody>\n",
       "</table>\n",
       "</div>"
      ],
      "text/plain": [
       "                   District                        State  Growth  Sex_Ratio  \\\n",
       "0             South Andaman  Andaman And Nicobar Islands  0.1423      871.0   \n",
       "1  North And Middle Andaman  Andaman And Nicobar Islands -0.0002      925.0   \n",
       "2                  Nicobars  Andaman And Nicobar Islands -0.1242      777.0   \n",
       "3                 Hyderabad               Andhra Pradesh  0.0297      954.0   \n",
       "4                Rangareddy               Andhra Pradesh  0.4816      961.0   \n",
       "5             West Godavari               Andhra Pradesh  0.0351     1004.0   \n",
       "6                 Papumpare            Arunachal Pradesh  0.4473      980.0   \n",
       "7           Lower Subansiri            Arunachal Pradesh  0.4900      984.0   \n",
       "8                East Siang            Arunachal Pradesh  0.1352      980.0   \n",
       "9       Kamrup Metropolitan                        Assam  0.1834      936.0   \n",
       "\n",
       "   Literacy  Rank  \n",
       "0     89.13     1  \n",
       "1     83.91     2  \n",
       "2     78.06     3  \n",
       "3     83.25     1  \n",
       "4     75.87     2  \n",
       "5     74.63     3  \n",
       "6     79.95     1  \n",
       "7     74.35     2  \n",
       "8     72.54     3  \n",
       "9     88.71     1  "
      ]
     },
     "execution_count": 43,
     "metadata": {},
     "output_type": "execute_result"
    }
   ],
   "source": [
    "# 17) show me the top 3 District in each state with highest Literacy_Rate.\n",
    "\n",
    "query = '''\n",
    "select a.*\n",
    "from \n",
    "    (select\n",
    "     *, rank() over (partition by State order by Literacy desc) as Rank\n",
    "     from\n",
    "     info_table) a\n",
    "\n",
    "where a.Rank in (1,2,3)\n",
    "'''\n",
    "run(query).head(10)"
   ]
  },
  {
   "cell_type": "code",
   "execution_count": null,
   "metadata": {
    "id": "7I9poMfDNPhN"
   },
   "outputs": [],
   "source": []
  },
  {
   "cell_type": "code",
   "execution_count": null,
   "metadata": {
    "id": "aQ5HUUwpsf1D"
   },
   "outputs": [],
   "source": []
  },
  {
   "cell_type": "code",
   "execution_count": null,
   "metadata": {
    "id": "3e_7tvjRjrVs"
   },
   "outputs": [],
   "source": []
  },
  {
   "cell_type": "code",
   "execution_count": null,
   "metadata": {
    "id": "psUAfBxPjrTd"
   },
   "outputs": [],
   "source": []
  },
  {
   "cell_type": "code",
   "execution_count": null,
   "metadata": {
    "id": "1h1rArq7jrQn"
   },
   "outputs": [],
   "source": []
  },
  {
   "cell_type": "code",
   "execution_count": null,
   "metadata": {
    "id": "Yddcp20SjrNv"
   },
   "outputs": [],
   "source": []
  },
  {
   "cell_type": "code",
   "execution_count": null,
   "metadata": {
    "id": "v4IfCIyxjrLa"
   },
   "outputs": [],
   "source": []
  },
  {
   "cell_type": "code",
   "execution_count": null,
   "metadata": {
    "id": "jXA2UcFqjrIs"
   },
   "outputs": [],
   "source": []
  },
  {
   "cell_type": "code",
   "execution_count": null,
   "metadata": {
    "id": "0AhY_PsAjrF4"
   },
   "outputs": [],
   "source": []
  },
  {
   "cell_type": "code",
   "execution_count": null,
   "metadata": {
    "id": "_d69w4LNjrDF"
   },
   "outputs": [],
   "source": []
  },
  {
   "cell_type": "code",
   "execution_count": null,
   "metadata": {
    "id": "Ed1pgDp_jrAh"
   },
   "outputs": [],
   "source": []
  },
  {
   "cell_type": "code",
   "execution_count": null,
   "metadata": {
    "id": "JYtf0u4njq92"
   },
   "outputs": [],
   "source": []
  },
  {
   "cell_type": "code",
   "execution_count": null,
   "metadata": {
    "id": "wW58MiIsjq7V"
   },
   "outputs": [],
   "source": []
  },
  {
   "cell_type": "code",
   "execution_count": null,
   "metadata": {
    "id": "oh5PRLAYjq4o"
   },
   "outputs": [],
   "source": []
  },
  {
   "cell_type": "code",
   "execution_count": null,
   "metadata": {
    "id": "ddPfGDwjjq19"
   },
   "outputs": [],
   "source": []
  },
  {
   "cell_type": "code",
   "execution_count": null,
   "metadata": {
    "id": "XjGeZGcEjqzN"
   },
   "outputs": [],
   "source": []
  },
  {
   "cell_type": "code",
   "execution_count": null,
   "metadata": {
    "id": "sz-nkCKDjqwo"
   },
   "outputs": [],
   "source": []
  }
 ],
 "metadata": {
  "colab": {
   "provenance": []
  },
  "kernelspec": {
   "display_name": "Python 3 (ipykernel)",
   "language": "python",
   "name": "python3"
  },
  "language_info": {
   "codemirror_mode": {
    "name": "ipython",
    "version": 3
   },
   "file_extension": ".py",
   "mimetype": "text/x-python",
   "name": "python",
   "nbconvert_exporter": "python",
   "pygments_lexer": "ipython3",
   "version": "3.8.3"
  }
 },
 "nbformat": 4,
 "nbformat_minor": 1
}
